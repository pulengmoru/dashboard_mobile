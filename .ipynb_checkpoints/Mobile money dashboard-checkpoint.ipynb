{
 "cells": [
  {
   "cell_type": "code",
   "execution_count": 1,
   "metadata": {},
   "outputs": [],
   "source": [
    "import dash\n",
    "import dash_core_components as dcc\n",
    "import dash_html_components as html\n",
    "import dash_renderer\n",
    "import pandas as pd\n",
    "import os\n",
    "import pandas as pd\n",
    "import seaborn as sns\n",
    "sns.set()\n",
    "import numpy as np\n",
    "import matplotlib.pyplot as plt"
   ]
  },
  {
   "cell_type": "code",
   "execution_count": 2,
   "metadata": {},
   "outputs": [],
   "source": [
    "cash_outlet = pd.read_csv('training.csv')"
   ]
  },
  {
   "cell_type": "code",
   "execution_count": 3,
   "metadata": {},
   "outputs": [],
   "source": [
    "cash_outlet.rename(inplace=True, columns={\n",
    "    'Q1':'age',\n",
    "    'Q2':'gender',\n",
    "    'Q3':'marital status',\n",
    "    'Q4':'Highest level of education',\n",
    "    'Q5':'property ownership',\n",
    "    'Q6':'land ownership',\n",
    "    'Q7':'personal mobile status',\n",
    "    'Q8_1':'salaries or wages',\n",
    "    'Q8_2':'money trading or selling',\n",
    "    'Q8_3':'money providing a service',\n",
    "    'Q8_4':'money casual work',\n",
    "    'Q8_5':'money rental income',\n",
    "    'Q8_6':'money interests',\n",
    "    'Q8_7':'money pension',\n",
    "    'Q8_8':'money social welfare',\n",
    "    'Q8_9':'money financially dependant',\n",
    "    'Q8_10':'money no income',\n",
    "    'Q8_11':'other',\n",
    "    'Q9':'salary and wages',\n",
    "    'Q10':'selling things',\n",
    "    'Q11':'providing a service',\n",
    "    'Q12':'send money to another country',\n",
    "    'Q13':'money last sent',\n",
    "    'Q14':'received money from another country',\n",
    "    'Q15':'last money received',\n",
    "    'Q16':'mobile money purchases',\n",
    "    'Q17':'mobile money bills',\n",
    "    'Q18':'literacy in kwiswhahili',\n",
    "    'Q19':'literacy in english'\n",
    "    \n",
    "})"
   ]
  },
  {
   "cell_type": "code",
   "execution_count": 4,
   "metadata": {},
   "outputs": [
    {
     "name": "stdout",
     "output_type": "stream",
     "text": [
      "Running on http://127.0.0.1:8056/\n",
      "Debugger PIN: 961-406-275\n",
      " * Serving Flask app \"__main__\" (lazy loading)\n",
      " * Environment: production\n",
      "   WARNING: Do not use the development server in a production environment.\n",
      "   Use a production WSGI server instead.\n",
      " * Debug mode: on\n"
     ]
    },
    {
     "ename": "SystemExit",
     "evalue": "1",
     "output_type": "error",
     "traceback": [
      "An exception has occurred, use %tb to see the full traceback.\n",
      "\u001b[0;31mSystemExit\u001b[0m\u001b[0;31m:\u001b[0m 1\n"
     ]
    },
    {
     "name": "stderr",
     "output_type": "stream",
     "text": [
      "/home/puleng/anaconda3/lib/python3.7/site-packages/IPython/core/interactiveshell.py:3304: UserWarning:\n",
      "\n",
      "To exit: use 'exit', 'quit', or Ctrl-D.\n",
      "\n"
     ]
    }
   ],
   "source": [
    "app = dash.Dash()\n",
    "\n",
    "app.layout = html.Div( children = [\n",
    "            html.H1('dashoard for mobile money')\n",
    "])\n",
    "\n",
    "if __name__ == '__main__':\n",
    "    app.run_server(debug=True, port=8056)\n",
    "\n",
    "#                     dcc.Graph(id='histogram', \n",
    "#                        figure={sns.countplot(x = 'land ownership', hue = 'mobile_money_classification',data = cash_outlet),\n",
    "#                             plt.legend(loc = 'best'),\n",
    "#                             plt.title(\"Relationship between financial services accessed and age\", fontsize=25),\n",
    "#                             plt.xticks(np.arange(4), ['0-25', '26-50', '56-75', '76-100'], fontsize=10)})\n",
    "    \n",
    "    \n",
    "#                     dcc.Graph(id='swarmchart', \n",
    "#                         figure={sns.swarmplot(x='gender', y='age', data=cash_outlet, hue='mobile_money_classification', dodge=True),\n",
    "#                             plt.legend(title='MM class', loc = 'best'),\n",
    "#                             plt.title(\"Relationship between financial services accessed and gender\", fontsize=25)}),\n",
    "    \n",
    "\n",
    "#                     dcc.Graph(id='violinegraph', \n",
    "#                          figure={sns.violinplot(x='marital status', y='age', data=cash_outlet, hue='mobile_money_classification', dodge=True),\n",
    "#                             plt.legend(title='MM class', loc = 'upper center'),\n",
    "#                             plt.title(\"Relationship between financial services accessed and marital status\", fontsize=25)}),\n",
    "           \n",
    "\n",
    "#                     dcc.Graph(id='stacked bargraph',\n",
    "#                         figure = px.bar(df, x=\"sex\", y=\"charges\", \n",
    "#                             height=650, \n",
    "#                             title='gender that pays the least fee')),    \n",
    "\n",
    "#                     dcc.Graph(id='grouped bargraph', \n",
    "#                         figure = px.bar(df, x=\"sex\", y=\"charges\", color='smoker', \n",
    "#                             barmode ='group', height=650, \n",
    "#                             title='gender that pays the least fee')),   \n",
    "\n",
    "#                     dcc.Interval(id='interval-component', \n",
    "#                         interval=2000,\n",
    "#                         n_intervals=0)\n",
    "#                     ])\n"
   ]
  },
  {
   "cell_type": "code",
   "execution_count": null,
   "metadata": {},
   "outputs": [],
   "source": [
    "app = dash.Dash()\n",
    "\n",
    "app.layout = html.Div([dcc.Graph(\n",
    "            id='example-grap',\n",
    "            figure={\n",
    "            sns.countplot(x = 'land ownership', hue = 'mobile_money_classification',data = cash_outlet),\n",
    "            plt.legend(loc = 'best'),\n",
    "            plt.title(\"Relationship between financial services accessed and age\", fontsize=25),\n",
    "            plt.xticks(np.arange(4), ['0-25', '26-50', '56-75', '76-100'], fontsize=10)}),\n",
    "\n",
    "            dcc.Graph(id='example-gra',\n",
    "                figure={sns.swarmplot(x='gender', y='age', data=cash_outlet, hue='mobile_money_classification', dodge=True),\n",
    "                plt.legend(title='MM class', loc = 'best'),\n",
    "                plt.title(\"Relationship between financial services accessed and gender\", fontsize=25)}),\n",
    "    \n",
    "            dcc.Graph(id='example-gr',\n",
    "                figure={sns.violinplot(x='marital status', y='age', data=cash_outlet, hue='mobile_money_classification', dodge=True),\n",
    "                plt.legend(title='MM class', loc = 'upper center'),\n",
    "                plt.title(\"Relationship between financial services accessed and marital status\", fontsize=25)\n",
    "            }),\n",
    "\n",
    "\n",
    "])\n"
   ]
  },
  {
   "cell_type": "code",
   "execution_count": null,
   "metadata": {},
   "outputs": [],
   "source": []
  },
  {
   "cell_type": "code",
   "execution_count": null,
   "metadata": {},
   "outputs": [],
   "source": []
  }
 ],
 "metadata": {
  "kernelspec": {
   "display_name": "Python 3",
   "language": "python",
   "name": "python3"
  },
  "language_info": {
   "codemirror_mode": {
    "name": "ipython",
    "version": 3
   },
   "file_extension": ".py",
   "mimetype": "text/x-python",
   "name": "python",
   "nbconvert_exporter": "python",
   "pygments_lexer": "ipython3",
   "version": "3.7.3"
  }
 },
 "nbformat": 4,
 "nbformat_minor": 2
}
