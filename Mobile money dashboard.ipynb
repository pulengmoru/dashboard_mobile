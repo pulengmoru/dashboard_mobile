{
 "cells": [
  {
   "cell_type": "markdown",
   "metadata": {},
   "source": [
    "## Mobile Money Dashboard\n",
    "In this assignment, we look at the mobile money graphs as a dashboard and "
   ]
  },
  {
   "cell_type": "code",
   "execution_count": 1,
   "metadata": {},
   "outputs": [],
   "source": [
    "import plotly.graph_objs as go\n",
    "import plotly.offline as pyo\n",
    "import dash\n",
    "import dash_core_components as dcc\n",
    "import dash_html_components as html\n",
    "import dash_renderer\n",
    "import pandas as pd\n",
    "import os\n",
    "import pandas as pd\n",
    "import seaborn as sns\n",
    "sns.set()\n",
    "import numpy as np\n",
    "import matplotlib.pyplot as plt"
   ]
  },
  {
   "cell_type": "code",
   "execution_count": 2,
   "metadata": {},
   "outputs": [],
   "source": [
    "cash_outlet = pd.read_csv('training.csv')"
   ]
  },
  {
   "cell_type": "code",
   "execution_count": 3,
   "metadata": {},
   "outputs": [
    {
     "data": {
      "text/html": [
       "<div>\n",
       "<style scoped>\n",
       "    .dataframe tbody tr th:only-of-type {\n",
       "        vertical-align: middle;\n",
       "    }\n",
       "\n",
       "    .dataframe tbody tr th {\n",
       "        vertical-align: top;\n",
       "    }\n",
       "\n",
       "    .dataframe thead th {\n",
       "        text-align: right;\n",
       "    }\n",
       "</style>\n",
       "<table border=\"1\" class=\"dataframe\">\n",
       "  <thead>\n",
       "    <tr style=\"text-align: right;\">\n",
       "      <th></th>\n",
       "      <th>ID</th>\n",
       "      <th>Q1</th>\n",
       "      <th>Q2</th>\n",
       "      <th>Q3</th>\n",
       "      <th>Q4</th>\n",
       "      <th>Q5</th>\n",
       "      <th>Q6</th>\n",
       "      <th>Q7</th>\n",
       "      <th>Q8_1</th>\n",
       "      <th>Q8_2</th>\n",
       "      <th>...</th>\n",
       "      <th>Q17</th>\n",
       "      <th>Q18</th>\n",
       "      <th>Q19</th>\n",
       "      <th>Latitude</th>\n",
       "      <th>Longitude</th>\n",
       "      <th>mobile_money</th>\n",
       "      <th>savings</th>\n",
       "      <th>borrowing</th>\n",
       "      <th>insurance</th>\n",
       "      <th>mobile_money_classification</th>\n",
       "    </tr>\n",
       "  </thead>\n",
       "  <tbody>\n",
       "    <tr>\n",
       "      <th>0</th>\n",
       "      <td>5086</td>\n",
       "      <td>98</td>\n",
       "      <td>2</td>\n",
       "      <td>3</td>\n",
       "      <td>1</td>\n",
       "      <td>1</td>\n",
       "      <td>2</td>\n",
       "      <td>2</td>\n",
       "      <td>0</td>\n",
       "      <td>0</td>\n",
       "      <td>...</td>\n",
       "      <td>-1</td>\n",
       "      <td>4</td>\n",
       "      <td>4</td>\n",
       "      <td>-4.460442</td>\n",
       "      <td>29.811396</td>\n",
       "      <td>0</td>\n",
       "      <td>0</td>\n",
       "      <td>0</td>\n",
       "      <td>0</td>\n",
       "      <td>0</td>\n",
       "    </tr>\n",
       "    <tr>\n",
       "      <th>1</th>\n",
       "      <td>1258</td>\n",
       "      <td>40</td>\n",
       "      <td>1</td>\n",
       "      <td>1</td>\n",
       "      <td>3</td>\n",
       "      <td>5</td>\n",
       "      <td>1</td>\n",
       "      <td>1</td>\n",
       "      <td>1</td>\n",
       "      <td>0</td>\n",
       "      <td>...</td>\n",
       "      <td>4</td>\n",
       "      <td>1</td>\n",
       "      <td>4</td>\n",
       "      <td>-6.176438</td>\n",
       "      <td>39.244871</td>\n",
       "      <td>1</td>\n",
       "      <td>1</td>\n",
       "      <td>1</td>\n",
       "      <td>0</td>\n",
       "      <td>3</td>\n",
       "    </tr>\n",
       "    <tr>\n",
       "      <th>2</th>\n",
       "      <td>331</td>\n",
       "      <td>18</td>\n",
       "      <td>2</td>\n",
       "      <td>4</td>\n",
       "      <td>6</td>\n",
       "      <td>3</td>\n",
       "      <td>2</td>\n",
       "      <td>1</td>\n",
       "      <td>0</td>\n",
       "      <td>0</td>\n",
       "      <td>...</td>\n",
       "      <td>-1</td>\n",
       "      <td>1</td>\n",
       "      <td>1</td>\n",
       "      <td>-6.825702</td>\n",
       "      <td>37.652798</td>\n",
       "      <td>1</td>\n",
       "      <td>0</td>\n",
       "      <td>0</td>\n",
       "      <td>0</td>\n",
       "      <td>2</td>\n",
       "    </tr>\n",
       "    <tr>\n",
       "      <th>3</th>\n",
       "      <td>6729</td>\n",
       "      <td>50</td>\n",
       "      <td>1</td>\n",
       "      <td>1</td>\n",
       "      <td>3</td>\n",
       "      <td>1</td>\n",
       "      <td>1</td>\n",
       "      <td>1</td>\n",
       "      <td>0</td>\n",
       "      <td>0</td>\n",
       "      <td>...</td>\n",
       "      <td>-1</td>\n",
       "      <td>1</td>\n",
       "      <td>4</td>\n",
       "      <td>-3.372049</td>\n",
       "      <td>35.808307</td>\n",
       "      <td>1</td>\n",
       "      <td>0</td>\n",
       "      <td>1</td>\n",
       "      <td>0</td>\n",
       "      <td>3</td>\n",
       "    </tr>\n",
       "    <tr>\n",
       "      <th>4</th>\n",
       "      <td>8671</td>\n",
       "      <td>34</td>\n",
       "      <td>1</td>\n",
       "      <td>1</td>\n",
       "      <td>1</td>\n",
       "      <td>1</td>\n",
       "      <td>2</td>\n",
       "      <td>1</td>\n",
       "      <td>0</td>\n",
       "      <td>1</td>\n",
       "      <td>...</td>\n",
       "      <td>-1</td>\n",
       "      <td>1</td>\n",
       "      <td>4</td>\n",
       "      <td>-7.179645</td>\n",
       "      <td>31.039095</td>\n",
       "      <td>1</td>\n",
       "      <td>1</td>\n",
       "      <td>0</td>\n",
       "      <td>1</td>\n",
       "      <td>3</td>\n",
       "    </tr>\n",
       "  </tbody>\n",
       "</table>\n",
       "<p>5 rows × 37 columns</p>\n",
       "</div>"
      ],
      "text/plain": [
       "     ID  Q1  Q2  Q3  Q4  Q5  Q6  Q7  Q8_1  Q8_2  ...  Q17  Q18  Q19  Latitude  \\\n",
       "0  5086  98   2   3   1   1   2   2     0     0  ...   -1    4    4 -4.460442   \n",
       "1  1258  40   1   1   3   5   1   1     1     0  ...    4    1    4 -6.176438   \n",
       "2   331  18   2   4   6   3   2   1     0     0  ...   -1    1    1 -6.825702   \n",
       "3  6729  50   1   1   3   1   1   1     0     0  ...   -1    1    4 -3.372049   \n",
       "4  8671  34   1   1   1   1   2   1     0     1  ...   -1    1    4 -7.179645   \n",
       "\n",
       "   Longitude  mobile_money  savings  borrowing  insurance  \\\n",
       "0  29.811396             0        0          0          0   \n",
       "1  39.244871             1        1          1          0   \n",
       "2  37.652798             1        0          0          0   \n",
       "3  35.808307             1        0          1          0   \n",
       "4  31.039095             1        1          0          1   \n",
       "\n",
       "   mobile_money_classification  \n",
       "0                            0  \n",
       "1                            3  \n",
       "2                            2  \n",
       "3                            3  \n",
       "4                            3  \n",
       "\n",
       "[5 rows x 37 columns]"
      ]
     },
     "execution_count": 3,
     "metadata": {},
     "output_type": "execute_result"
    }
   ],
   "source": [
    "cash_outlet.head()"
   ]
  },
  {
   "cell_type": "code",
   "execution_count": null,
   "metadata": {},
   "outputs": [],
   "source": []
  },
  {
   "cell_type": "code",
   "execution_count": 4,
   "metadata": {},
   "outputs": [],
   "source": [
    "cash_outlet.rename(inplace=True, columns={\n",
    "    'Q1':'age',\n",
    "    'Q2':'gender',\n",
    "    'Q3':'marital status',\n",
    "    'Q4':'Highest level of education',\n",
    "    'Q5':'property ownership',\n",
    "    'Q6':'land ownership',\n",
    "    'Q7':'personal mobile status',\n",
    "    'Q8_1':'salaries or wages',\n",
    "    'Q8_2':'money trading or selling',\n",
    "    'Q8_3':'money providing a service',\n",
    "    'Q8_4':'money casual work',\n",
    "    'Q8_5':'money rental income',\n",
    "    'Q8_6':'money interests',\n",
    "    'Q8_7':'money pension',\n",
    "    'Q8_8':'money social welfare',\n",
    "    'Q8_9':'money financially dependant',\n",
    "    'Q8_10':'money no income',\n",
    "    'Q8_11':'other',\n",
    "    'Q9':'salary and wages',\n",
    "    'Q10':'selling things',\n",
    "    'Q11':'providing a service',\n",
    "    'Q12':'send money to another country',\n",
    "    'Q13':'money last sent',\n",
    "    'Q14':'received money from another country',\n",
    "    'Q15':'last money received',\n",
    "    'Q16':'mobile money purchases',\n",
    "    'Q17':'mobile money bills',\n",
    "    'Q18':'literacy in kwiswhahili',\n",
    "    'Q19':'literacy in english'\n",
    "    \n",
    "})"
   ]
  },
  {
   "cell_type": "code",
   "execution_count": 5,
   "metadata": {},
   "outputs": [
    {
     "data": {
      "text/plain": [
       "array([0, 3, 2, 1])"
      ]
     },
     "execution_count": 5,
     "metadata": {},
     "output_type": "execute_result"
    }
   ],
   "source": [
    "cash_outlet['mobile_money_classification'].unique()"
   ]
  },
  {
   "cell_type": "code",
   "execution_count": 6,
   "metadata": {},
   "outputs": [],
   "source": [
    "cash_outlet['mobile_money_classification'].replace([0,1,2,3],['Nun','FS_only','MM_only','MM_FS'],inplace=True)"
   ]
  },
  {
   "cell_type": "code",
   "execution_count": 7,
   "metadata": {},
   "outputs": [
    {
     "data": {
      "text/plain": [
       "mobile_money_classification\n",
       "FS_only    1778\n",
       "MM_FS      3126\n",
       "MM_only     804\n",
       "Nun        1386\n",
       "dtype: int64"
      ]
     },
     "execution_count": 7,
     "metadata": {},
     "output_type": "execute_result"
    }
   ],
   "source": [
    "cash_outlet.groupby(by='mobile_money_classification').size()"
   ]
  },
  {
   "cell_type": "code",
   "execution_count": 8,
   "metadata": {},
   "outputs": [
    {
     "data": {
      "text/plain": [
       "gender\n",
       "female    3972\n",
       "male      3122\n",
       "dtype: int64"
      ]
     },
     "execution_count": 8,
     "metadata": {},
     "output_type": "execute_result"
    }
   ],
   "source": [
    "cash_outlet.gender= ['male' if each == 1 else 'female' for each in cash_outlet.gender]\n",
    "cash_outlet.groupby(by='gender').size()"
   ]
  },
  {
   "cell_type": "code",
   "execution_count": null,
   "metadata": {},
   "outputs": [],
   "source": []
  },
  {
   "cell_type": "code",
   "execution_count": 9,
   "metadata": {},
   "outputs": [
    {
     "data": {
      "text/html": [
       "<div>\n",
       "<style scoped>\n",
       "    .dataframe tbody tr th:only-of-type {\n",
       "        vertical-align: middle;\n",
       "    }\n",
       "\n",
       "    .dataframe tbody tr th {\n",
       "        vertical-align: top;\n",
       "    }\n",
       "\n",
       "    .dataframe thead th {\n",
       "        text-align: right;\n",
       "    }\n",
       "</style>\n",
       "<table border=\"1\" class=\"dataframe\">\n",
       "  <thead>\n",
       "    <tr style=\"text-align: right;\">\n",
       "      <th>gender</th>\n",
       "      <th>female</th>\n",
       "      <th>male</th>\n",
       "    </tr>\n",
       "    <tr>\n",
       "      <th>mobile_money_classification</th>\n",
       "      <th></th>\n",
       "      <th></th>\n",
       "    </tr>\n",
       "  </thead>\n",
       "  <tbody>\n",
       "    <tr>\n",
       "      <th>FS_only</th>\n",
       "      <td>1083</td>\n",
       "      <td>695</td>\n",
       "    </tr>\n",
       "    <tr>\n",
       "      <th>MM_FS</th>\n",
       "      <td>1521</td>\n",
       "      <td>1605</td>\n",
       "    </tr>\n",
       "    <tr>\n",
       "      <th>MM_only</th>\n",
       "      <td>450</td>\n",
       "      <td>354</td>\n",
       "    </tr>\n",
       "    <tr>\n",
       "      <th>Nun</th>\n",
       "      <td>918</td>\n",
       "      <td>468</td>\n",
       "    </tr>\n",
       "  </tbody>\n",
       "</table>\n",
       "</div>"
      ],
      "text/plain": [
       "gender                       female  male\n",
       "mobile_money_classification              \n",
       "FS_only                        1083   695\n",
       "MM_FS                          1521  1605\n",
       "MM_only                         450   354\n",
       "Nun                             918   468"
      ]
     },
     "execution_count": 9,
     "metadata": {},
     "output_type": "execute_result"
    }
   ],
   "source": [
    "mobile_gender = pd.pivot_table(cash_outlet, index = 'mobile_money_classification', columns = 'gender', aggfunc = 'count', values = 'savings')\n",
    "mobile_gender"
   ]
  },
  {
   "cell_type": "code",
   "execution_count": 10,
   "metadata": {},
   "outputs": [
    {
     "data": {
      "text/plain": [
       "Index(['female', 'male'], dtype='object', name='gender')"
      ]
     },
     "execution_count": 10,
     "metadata": {},
     "output_type": "execute_result"
    }
   ],
   "source": [
    "mobile_gender.columns"
   ]
  },
  {
   "cell_type": "code",
   "execution_count": 11,
   "metadata": {},
   "outputs": [
    {
     "data": {
      "text/plain": [
       "mobile_money_classification\n",
       "FS_only     695\n",
       "MM_FS      1605\n",
       "MM_only     354\n",
       "Nun         468\n",
       "Name: male, dtype: int64"
      ]
     },
     "execution_count": 11,
     "metadata": {},
     "output_type": "execute_result"
    }
   ],
   "source": [
    "mobile_gender.male\n"
   ]
  },
  {
   "cell_type": "code",
   "execution_count": 12,
   "metadata": {},
   "outputs": [],
   "source": [
    "male1 = cash_outlet[cash_outlet.gender == 'male']\n",
    "female1 = cash_outlet[cash_outlet.gender == 'female']"
   ]
  },
  {
   "cell_type": "code",
   "execution_count": 13,
   "metadata": {},
   "outputs": [
    {
     "data": {
      "text/plain": [
       "mobile_money_classification\n",
       "FS_only    1778\n",
       "MM_FS      3126\n",
       "MM_only     804\n",
       "Nun        1386\n",
       "dtype: int64"
      ]
     },
     "execution_count": 13,
     "metadata": {},
     "output_type": "execute_result"
    }
   ],
   "source": [
    "cash_outlet.groupby(by='mobile_money_classification').size()"
   ]
  },
  {
   "cell_type": "code",
   "execution_count": 14,
   "metadata": {},
   "outputs": [
    {
     "data": {
      "text/plain": [
       "array([ 98,  40,  18,  50,  34,  35,  31,  23,  56,  37,  29,  28,  17,\n",
       "        22,  53,  21,  24,  38,  30,  27,  42,  44,  76,  19,  20,  26,\n",
       "        32,  46,  47,  86,  25,  39,  72,  65,  54,  45,  48,  33,  57,\n",
       "        51,  69,  58,  36,  52,  60,  79,  74,  70,  66,  43,  71,  41,\n",
       "        16,  49,  82,  64,  55,  78,  59,  80,  94,  61,  85,  90,  77,\n",
       "        62,  87,  68,  81,  75,  63,  67,  73,  96,  88,  83,  92,  84,\n",
       "       100,  99,  93,  91,  95,  97,  89])"
      ]
     },
     "execution_count": 14,
     "metadata": {},
     "output_type": "execute_result"
    }
   ],
   "source": [
    "cash_outlet['age'].unique()"
   ]
  },
  {
   "cell_type": "code",
   "execution_count": 15,
   "metadata": {},
   "outputs": [],
   "source": [
    "bins = [0, 25, 50, 75,100]\n",
    "names = ['0-25', '25-50', '50-75', '75-100']\n",
    "\n",
    "cash_outlet['AgeRange'] = pd.cut(cash_outlet['age'], bins, labels=names)"
   ]
  },
  {
   "cell_type": "code",
   "execution_count": 16,
   "metadata": {},
   "outputs": [
    {
     "data": {
      "text/html": [
       "<div>\n",
       "<style scoped>\n",
       "    .dataframe tbody tr th:only-of-type {\n",
       "        vertical-align: middle;\n",
       "    }\n",
       "\n",
       "    .dataframe tbody tr th {\n",
       "        vertical-align: top;\n",
       "    }\n",
       "\n",
       "    .dataframe thead th {\n",
       "        text-align: right;\n",
       "    }\n",
       "</style>\n",
       "<table border=\"1\" class=\"dataframe\">\n",
       "  <thead>\n",
       "    <tr style=\"text-align: right;\">\n",
       "      <th>AgeRange</th>\n",
       "      <th>0-25</th>\n",
       "      <th>25-50</th>\n",
       "      <th>50-75</th>\n",
       "      <th>75-100</th>\n",
       "    </tr>\n",
       "    <tr>\n",
       "      <th>mobile_money_classification</th>\n",
       "      <th></th>\n",
       "      <th></th>\n",
       "      <th></th>\n",
       "      <th></th>\n",
       "    </tr>\n",
       "  </thead>\n",
       "  <tbody>\n",
       "    <tr>\n",
       "      <th>FS_only</th>\n",
       "      <td>399</td>\n",
       "      <td>951</td>\n",
       "      <td>361</td>\n",
       "      <td>67</td>\n",
       "    </tr>\n",
       "    <tr>\n",
       "      <th>MM_FS</th>\n",
       "      <td>733</td>\n",
       "      <td>1918</td>\n",
       "      <td>446</td>\n",
       "      <td>29</td>\n",
       "    </tr>\n",
       "    <tr>\n",
       "      <th>MM_only</th>\n",
       "      <td>259</td>\n",
       "      <td>395</td>\n",
       "      <td>139</td>\n",
       "      <td>11</td>\n",
       "    </tr>\n",
       "    <tr>\n",
       "      <th>Nun</th>\n",
       "      <td>404</td>\n",
       "      <td>557</td>\n",
       "      <td>324</td>\n",
       "      <td>101</td>\n",
       "    </tr>\n",
       "  </tbody>\n",
       "</table>\n",
       "</div>"
      ],
      "text/plain": [
       "AgeRange                     0-25  25-50  50-75  75-100\n",
       "mobile_money_classification                            \n",
       "FS_only                       399    951    361      67\n",
       "MM_FS                         733   1918    446      29\n",
       "MM_only                       259    395    139      11\n",
       "Nun                           404    557    324     101"
      ]
     },
     "execution_count": 16,
     "metadata": {},
     "output_type": "execute_result"
    }
   ],
   "source": [
    "mobile_age = pd.pivot_table(cash_outlet, index = 'mobile_money_classification', columns = 'AgeRange', aggfunc = 'count', values = 'savings')\n",
    "mobile_age"
   ]
  },
  {
   "cell_type": "code",
   "execution_count": 17,
   "metadata": {},
   "outputs": [],
   "source": [
    "cash_outlet['marital status'].replace([1,2,3,4],['Married','Divorced','Widowed','Never married'],inplace=True)"
   ]
  },
  {
   "cell_type": "code",
   "execution_count": 18,
   "metadata": {},
   "outputs": [
    {
     "data": {
      "text/plain": [
       "marital status\n",
       "Divorced          687\n",
       "Married          4548\n",
       "Never married    1181\n",
       "Widowed           678\n",
       "dtype: int64"
      ]
     },
     "execution_count": 18,
     "metadata": {},
     "output_type": "execute_result"
    }
   ],
   "source": [
    "cash_outlet.groupby(by='marital status').size()"
   ]
  },
  {
   "cell_type": "code",
   "execution_count": 19,
   "metadata": {},
   "outputs": [
    {
     "data": {
      "text/html": [
       "<div>\n",
       "<style scoped>\n",
       "    .dataframe tbody tr th:only-of-type {\n",
       "        vertical-align: middle;\n",
       "    }\n",
       "\n",
       "    .dataframe tbody tr th {\n",
       "        vertical-align: top;\n",
       "    }\n",
       "\n",
       "    .dataframe thead th {\n",
       "        text-align: right;\n",
       "    }\n",
       "</style>\n",
       "<table border=\"1\" class=\"dataframe\">\n",
       "  <thead>\n",
       "    <tr style=\"text-align: right;\">\n",
       "      <th>marital status</th>\n",
       "      <th>Divorced</th>\n",
       "      <th>Married</th>\n",
       "      <th>Never married</th>\n",
       "      <th>Widowed</th>\n",
       "    </tr>\n",
       "    <tr>\n",
       "      <th>mobile_money_classification</th>\n",
       "      <th></th>\n",
       "      <th></th>\n",
       "      <th></th>\n",
       "      <th></th>\n",
       "    </tr>\n",
       "  </thead>\n",
       "  <tbody>\n",
       "    <tr>\n",
       "      <th>FS_only</th>\n",
       "      <td>177</td>\n",
       "      <td>1216</td>\n",
       "      <td>200</td>\n",
       "      <td>185</td>\n",
       "    </tr>\n",
       "    <tr>\n",
       "      <th>MM_FS</th>\n",
       "      <td>289</td>\n",
       "      <td>2087</td>\n",
       "      <td>553</td>\n",
       "      <td>197</td>\n",
       "    </tr>\n",
       "    <tr>\n",
       "      <th>MM_only</th>\n",
       "      <td>94</td>\n",
       "      <td>463</td>\n",
       "      <td>186</td>\n",
       "      <td>61</td>\n",
       "    </tr>\n",
       "    <tr>\n",
       "      <th>Nun</th>\n",
       "      <td>127</td>\n",
       "      <td>782</td>\n",
       "      <td>242</td>\n",
       "      <td>235</td>\n",
       "    </tr>\n",
       "  </tbody>\n",
       "</table>\n",
       "</div>"
      ],
      "text/plain": [
       "marital status               Divorced  Married  Never married  Widowed\n",
       "mobile_money_classification                                           \n",
       "FS_only                           177     1216            200      185\n",
       "MM_FS                             289     2087            553      197\n",
       "MM_only                            94      463            186       61\n",
       "Nun                               127      782            242      235"
      ]
     },
     "execution_count": 19,
     "metadata": {},
     "output_type": "execute_result"
    }
   ],
   "source": [
    "mobile_marital = pd.pivot_table(cash_outlet, index = 'mobile_money_classification', columns = 'marital status', aggfunc = 'count', values = 'savings')\n",
    "mobile_marital"
   ]
  },
  {
   "cell_type": "code",
   "execution_count": 20,
   "metadata": {},
   "outputs": [],
   "source": [
    "cash_outlet['land ownership'].replace([1,2],['Yes', 'No'],inplace=True)"
   ]
  },
  {
   "cell_type": "code",
   "execution_count": 21,
   "metadata": {},
   "outputs": [
    {
     "data": {
      "text/plain": [
       "land ownership\n",
       "No     5963\n",
       "Yes    1131\n",
       "dtype: int64"
      ]
     },
     "execution_count": 21,
     "metadata": {},
     "output_type": "execute_result"
    }
   ],
   "source": [
    "cash_outlet.groupby(by='land ownership').size()"
   ]
  },
  {
   "cell_type": "code",
   "execution_count": 22,
   "metadata": {},
   "outputs": [
    {
     "data": {
      "text/html": [
       "<div>\n",
       "<style scoped>\n",
       "    .dataframe tbody tr th:only-of-type {\n",
       "        vertical-align: middle;\n",
       "    }\n",
       "\n",
       "    .dataframe tbody tr th {\n",
       "        vertical-align: top;\n",
       "    }\n",
       "\n",
       "    .dataframe thead th {\n",
       "        text-align: right;\n",
       "    }\n",
       "</style>\n",
       "<table border=\"1\" class=\"dataframe\">\n",
       "  <thead>\n",
       "    <tr style=\"text-align: right;\">\n",
       "      <th>land ownership</th>\n",
       "      <th>No</th>\n",
       "      <th>Yes</th>\n",
       "    </tr>\n",
       "    <tr>\n",
       "      <th>mobile_money_classification</th>\n",
       "      <th></th>\n",
       "      <th></th>\n",
       "    </tr>\n",
       "  </thead>\n",
       "  <tbody>\n",
       "    <tr>\n",
       "      <th>FS_only</th>\n",
       "      <td>1533</td>\n",
       "      <td>245</td>\n",
       "    </tr>\n",
       "    <tr>\n",
       "      <th>MM_FS</th>\n",
       "      <td>2479</td>\n",
       "      <td>647</td>\n",
       "    </tr>\n",
       "    <tr>\n",
       "      <th>MM_only</th>\n",
       "      <td>699</td>\n",
       "      <td>105</td>\n",
       "    </tr>\n",
       "    <tr>\n",
       "      <th>Nun</th>\n",
       "      <td>1252</td>\n",
       "      <td>134</td>\n",
       "    </tr>\n",
       "  </tbody>\n",
       "</table>\n",
       "</div>"
      ],
      "text/plain": [
       "land ownership                 No  Yes\n",
       "mobile_money_classification           \n",
       "FS_only                      1533  245\n",
       "MM_FS                        2479  647\n",
       "MM_only                       699  105\n",
       "Nun                          1252  134"
      ]
     },
     "execution_count": 22,
     "metadata": {},
     "output_type": "execute_result"
    }
   ],
   "source": [
    "mobile_land = pd.pivot_table(cash_outlet, index = 'mobile_money_classification', columns = 'land ownership', aggfunc = 'count', values = 'savings')\n",
    "mobile_land"
   ]
  },
  {
   "cell_type": "code",
   "execution_count": null,
   "metadata": {},
   "outputs": [
    {
     "name": "stdout",
     "output_type": "stream",
     "text": [
      " * Serving Flask app \"__main__\" (lazy loading)\n",
      " * Environment: production\n",
      "   WARNING: Do not use the development server in a production environment.\n",
      "   Use a production WSGI server instead.\n",
      " * Debug mode: off\n"
     ]
    },
    {
     "name": "stderr",
     "output_type": "stream",
     "text": [
      " * Running on http://127.0.0.1:8050/ (Press CTRL+C to quit)\n",
      "127.0.0.1 - - [16/Apr/2020 17:35:01] \"GET / HTTP/1.1\" 200 -\n",
      "127.0.0.1 - - [16/Apr/2020 17:35:02] \"GET /_dash-dependencies HTTP/1.1\" 200 -\n",
      "127.0.0.1 - - [16/Apr/2020 17:35:02] \"GET /_dash-layout HTTP/1.1\" 200 -\n"
     ]
    }
   ],
   "source": [
    "app = dash.Dash()\n",
    "\n",
    "# app.css.append_css[{'external_url':'https://codepen.io/amyoshino/pen/jzXypZ.css'}]\n",
    "app.title = 'dashboard'\n",
    "\n",
    "app.layout = html.Div(\n",
    "       html.Div([\n",
    "            html.H1(children = 'dashoard for mobile money'),\n",
    "           \n",
    "            \n",
    "            html.Div(children ='''\n",
    "                Dash: Web dashboards with python,\n",
    "            '''),\n",
    "       \n",
    "       \n",
    "        dcc.Graph(\n",
    "            id='mobile money',\n",
    "            figure={\n",
    "            'data':[\n",
    "                {'x':mobile_gender.index, 'y': mobile_gender['male'], 'type': 'bar','name': 'Male'},\n",
    "                {'x':mobile_gender.index, 'y': mobile_gender['female'], 'type': 'bar','name': 'Female'},\n",
    "                \n",
    "            \n",
    "            ],\n",
    "            \n",
    "            'layout':{\n",
    "                'title':'Relationship between mobile money class and gender'\n",
    "            }\n",
    "        }\n",
    "    ),            \n",
    "    dcc.Graph(\n",
    "        id='mobile money2',\n",
    "        figure={\n",
    "            'data':[\n",
    "                {'x':mobile_age.index, 'y':mobile_age['0-25'], 'type': 'bar','name': '0-25'},\n",
    "                {'x':mobile_age.index, 'y':mobile_age['25-50'], 'type': 'bar','name': '25-50'},\n",
    "                {'x':mobile_age.index, 'y':mobile_age['50-75'], 'type': 'bar','name': '50-75'},\n",
    "                {'x':mobile_age.index, 'y':mobile_age['75-100'], 'type': 'bar','name': '75-100'},     \n",
    "            ],\n",
    "            'layout':{\n",
    "                'title':'Relationship between mobile money class and age'\n",
    "            }\n",
    "        }\n",
    "    ),\n",
    "    dcc.Graph(\n",
    "        id='mobile money3',\n",
    "        figure={\n",
    "            'data':[\n",
    "                {'x':mobile_land.index, 'y':mobile_land['Yes'], 'type': 'bar','name': 'Owner'},\n",
    "                {'x':mobile_land.index, 'y':mobile_land['No'], 'type': 'bar','name': 'Non_owner'},\n",
    "            ],\n",
    "            'layout':{\n",
    "                'title':'Relationship between mobile money class and land ownership'\n",
    "            }\n",
    "        }\n",
    "    ),\n",
    "    dcc.Graph(\n",
    "        id='mobile money4',\n",
    "        figure={\n",
    "            'data':[\n",
    "                {'x':mobile_marital.index, 'y':mobile_marital['Divorced'], 'type': 'bar','name': 'Married'},\n",
    "                {'x':mobile_marital.index, 'y':mobile_marital['Married'], 'type': 'bar','name': 'Divorced'},\n",
    "                {'x':mobile_marital.index, 'y':mobile_marital['Never married'], 'type': 'bar','name': 'Widowed'},\n",
    "                {'x':mobile_marital.index, 'y':mobile_marital['Widowed'], 'type': 'bar','name': 'Never married'},     \n",
    "            ],\n",
    "            'layout':{\n",
    "                'title':'Relationship between mobile money class and marital status'\n",
    "            }\n",
    "        }\n",
    "    ),\n",
    "                \n",
    "]))\n",
    "\n",
    "if __name__ == '__main__':\n",
    "    app.run_server()\n"
   ]
  },
  {
   "cell_type": "code",
   "execution_count": null,
   "metadata": {},
   "outputs": [],
   "source": []
  },
  {
   "cell_type": "code",
   "execution_count": null,
   "metadata": {},
   "outputs": [],
   "source": []
  }
 ],
 "metadata": {
  "kernelspec": {
   "display_name": "Python 3",
   "language": "python",
   "name": "python3"
  },
  "language_info": {
   "codemirror_mode": {
    "name": "ipython",
    "version": 3
   },
   "file_extension": ".py",
   "mimetype": "text/x-python",
   "name": "python",
   "nbconvert_exporter": "python",
   "pygments_lexer": "ipython3",
   "version": "3.7.3"
  }
 },
 "nbformat": 4,
 "nbformat_minor": 2
}
